{
 "cells": [
  {
   "cell_type": "code",
   "execution_count": 1,
   "metadata": {},
   "outputs": [],
   "source": [
    "import pandas as pd\n",
    "from gensim.summarization.summarizer import summarize"
   ]
  },
  {
   "cell_type": "code",
   "execution_count": 2,
   "metadata": {},
   "outputs": [],
   "source": [
    "news_df = pd.read_csv('../data/news_data.csv')"
   ]
  },
  {
   "cell_type": "markdown",
   "metadata": {},
   "source": [
    "summarization.summarizer – TextRank Summariser\n",
    "- https://radimrehurek.com/gensim/summarization/summariser.html\n",
    "- https://anpigon.github.io/blog/dclick/@anpigon/-textrank-summariser-1540351206980/\n",
    "- https://soyoung-new-challenge.tistory.com/44"
   ]
  },
  {
   "cell_type": "markdown",
   "metadata": {},
   "source": [
    "+ text ( str ) – input 텍스트\n",
    "+ ratio ( float , optional ) – 요약을 위해 선택할 원본 텍스트의 문장 수 비율을 결정하는 0과 1 사이의 숫자.\n",
    "+ word_count ( int 또는 None , 선택 사항 ) – 출력에 포함될 단어 수를 결정. 두 매개 변수가 모두 제공되면 비율이 무시.\n",
    "+ split ( bool , optional ) – True이면 문장 목록이 반환. 그렇지 않으면 결합 된 문자열이 반환"
   ]
  },
  {
   "cell_type": "code",
   "execution_count": 3,
   "metadata": {},
   "outputs": [
    {
     "name": "stdout",
     "output_type": "stream",
     "text": [
      "김홍걸, 당적 상실해 무소속으로…野, 의원직 사퇴요구하며 제명결정 비판\n",
      "감찰단 최기상 단장은 김 의원에 대한 공직선거법 위반 및 재산 허위 신고 의혹 등에 대한 조사를 개시했으나 김 의원이 이에 대해 성실히 협조하지 않음에 따라 이낙연 대표에게 김 의원에 대한 제명을 요청했다.\n",
      "최 수석대변인은 \"감찰단이 여러 가지 소명이나 본인 주장을 들어보려고 했으나 성실히 응할 의사가 없다는 것을 확인했다\"면서 \"이 대표는 최기상 단장의 보고를 받고 즉시 긴급 최고위원회의를 소집하게 됐다\"고 말했다.\n",
      "정의당 조혜민 대변인도 논평에서 \"의원직이 유지되는 만큼 김 의원이 마땅한 책임을 지는 결과라고 할 수 없다\"며 \"김 의원은 추한 모습으로 부친의 명예에 누를 끼치지 말고 의원직에서 스스로 물러나야 한다\"고 말했다.\n"
     ]
    }
   ],
   "source": [
    "print(summarize(news_df['contents'][0][:-50], word_count=100, ratio=0.1))"
   ]
  },
  {
   "cell_type": "code",
   "execution_count": 4,
   "metadata": {},
   "outputs": [
    {
     "data": {
      "text/plain": [
       "'더불어민주당은 18일 재산 신고 누락 의혹이 제기된 김대중 전 대통령의 삼남 김홍걸 의원을 제명했다.\\n\\n감찰단 최기상 단장은 김 의원에 대한 공직선거법 위반 및 재산 허위 신고 의혹 등에 대한 조사를 개시했으나 김 의원이 이에 대해 성실히 협조하지 않음에 따라 이낙연 대표에게 김 의원에 대한 제명을 요청했다.\\n\\n최 수석대변인은 \"감찰단이 여러 가지 소명이나 본인 주장을 들어보려고 했으나 성실히 응할 의사가 없다는 것을 확인했다\"면서 \"이 대표는 최기상 단장의 보고를 받고 즉시 긴급 최고위원회의를 소집하게 됐다\"고 말했다.'"
      ]
     },
     "execution_count": 4,
     "metadata": {},
     "output_type": "execute_result"
    }
   ],
   "source": [
    "news_df['summarisation'][0]"
   ]
  },
  {
   "cell_type": "code",
   "execution_count": 5,
   "metadata": {},
   "outputs": [],
   "source": [
    "from newspaper import Article\n",
    "from konlpy.tag import Kkma\n",
    "from konlpy.tag import Okt\n",
    "from sklearn.feature_extraction.text import TfidfVectorizer\n",
    "from sklearn.feature_extraction.text import CountVectorizer\n",
    "from sklearn.preprocessing import normalize\n",
    "import numpy as np"
   ]
  },
  {
   "cell_type": "markdown",
   "metadata": {},
   "source": [
    "TextRank를 이용한 문서요약\n",
    "\n",
    "- https://excelsior-cjh.tistory.com/93 (Twitter -> Okt)"
   ]
  },
  {
   "cell_type": "code",
   "execution_count": 6,
   "metadata": {},
   "outputs": [
    {
     "name": "stderr",
     "output_type": "stream",
     "text": [
      "<>:34: SyntaxWarning: \"is not\" with a literal. Did you mean \"!=\"?\n",
      "<>:34: SyntaxWarning: \"is not\" with a literal. Did you mean \"!=\"?\n",
      "<ipython-input-6-d15f980399f9>:34: SyntaxWarning: \"is not\" with a literal. Did you mean \"!=\"?\n",
      "  if sentence is not '':\n"
     ]
    }
   ],
   "source": [
    "class SentenceTokenizer(object):\n",
    "    def __init__(self):\n",
    "        self.kkma = Kkma()\n",
    "        self.Okt = Okt()\n",
    "        self.stopwords = ['중인' ,'만큼', '마찬가지', '꼬집었', \"연합뉴스\", \"데일리\", \"동아일보\", \"중앙일보\", \"조선일보\", \"기자\"\n",
    "                          ,\"아\", \"휴\", \"아이구\", \"아이쿠\", \"아이고\", \"어\", \"나\", \"우리\", \"저희\", \"따라\", \"의해\", \"을\", \"를\", \n",
    "                          \"에\", \"의\", \"가\",]\n",
    "    \n",
    "    def url2sentences(self, url):\n",
    "        article = Article(url, language='ko')\n",
    "        article.download()\n",
    "        article.parse()\n",
    "        sentences = self.kkma.sentences(article.text)\n",
    "    \n",
    "        for idx in range(0, len(sentences)):\n",
    "            if len(sentences[idx]) <= 10:\n",
    "                sentences[idx-1] += (' ' + sentences[idx])\n",
    "                sentences[idx] = ''\n",
    "            \n",
    "        return sentences\n",
    "    \n",
    "    def text2sentences(self, text):\n",
    "        sentences = self.kkma.sentences(text)\n",
    "        for idx in range(0, len(sentences)):\n",
    "            if len(sentences[idx]) <= 10:\n",
    "                sentences[idx-1] += (' ' + sentences[idx])\n",
    "                sentences[idx] = ''\n",
    "                \n",
    "        return sentences\n",
    "    \n",
    "    def get_nouns(self, sentences):\n",
    "        nouns = []\n",
    "        for sentence in sentences:\n",
    "            if sentence is not '':\n",
    "                nouns.append(' '.join([noun for noun in self.Okt.nouns(str(sentence))\n",
    "                                       if noun not in self.stopwords and len(noun) > 1]))\n",
    "                \n",
    "        return nouns"
   ]
  },
  {
   "cell_type": "code",
   "execution_count": 7,
   "metadata": {},
   "outputs": [],
   "source": [
    "class GraphMatrix(object):\n",
    "    def __init__(self):\n",
    "        self.tfidf = TfidfVectorizer()\n",
    "        self.cnt_vec = CountVectorizer()\n",
    "        self.graph_sentence = []\n",
    "        \n",
    "    def build_sent_graph(self, sentence):\n",
    "        tfidf_mat = self.tfidf.fit_transform(sentence).toarray()\n",
    "        self.graph_sentence = np.dot(tfidf_mat, tfidf_mat.T)\n",
    "        return self.graph_sentence\n",
    "    \n",
    "    def build_words_graph(self, sentence):\n",
    "        cnt_vec_mat = normalize(self.cnt_vec.fit_transform(sentence).toarray().astype(float), axis=0)\n",
    "        vocab = self.cnt_vec.vocabulary_\n",
    "        return np.dot(cnt_vec_mat.T, cnt_vec_mat), {vocab[word] : word for word in vocab}"
   ]
  },
  {
   "cell_type": "code",
   "execution_count": 8,
   "metadata": {},
   "outputs": [],
   "source": [
    "class Rank(object):\n",
    "    def get_ranks(self, graph, d=0.85): # d = damping factor\n",
    "        A = graph\n",
    "        matrix_size = A.shape[0]\n",
    "        for id in range(matrix_size):\n",
    "            A[id, id] = 0 # diagonal 부분을 0으로\n",
    "            link_sum = np.sum(A[:,id]) # A[:, id] = A[:][id]\n",
    "            if link_sum != 0:\n",
    "                A[:, id] /= link_sum\n",
    "            A[:, id] *= -d\n",
    "            A[id, id] = 1\n",
    "            \n",
    "        B = (1-d) * np.ones((matrix_size, 1))\n",
    "        ranks = np.linalg.solve(A, B) # 연립방정식 Ax = b\n",
    "        return {idx: r[0] for idx, r in enumerate(ranks)}"
   ]
  },
  {
   "cell_type": "code",
   "execution_count": 9,
   "metadata": {},
   "outputs": [],
   "source": [
    "class TextRank(object):\n",
    "    def __init__(self, text):\n",
    "        self.sent_tokenize = SentenceTokenizer()\n",
    "        \n",
    "        if text[:5] in ('http:', 'https'):\n",
    "            self.sentences = self.sent_tokenize.url2sentences(text)\n",
    "        else:\n",
    "            self.sentences = self.sent_tokenize.text2sentences(text)\n",
    "            \n",
    "        self.nouns = self.sent_tokenize.get_nouns(self.sentences)\n",
    "        \n",
    "        self.graph_matrix = GraphMatrix()\n",
    "        self.sent_graph = self.graph_matrix.build_sent_graph(self.nouns)\n",
    "        self.words_graph, self.idx2word = self.graph_matrix.build_words_graph(self.nouns)\n",
    "        \n",
    "        self.rank = Rank()\n",
    "        self.sent_rank_idx = self.rank.get_ranks(self.sent_graph)\n",
    "        self.sorted_sent_rank_idx = sorted(self.sent_rank_idx, key=lambda k: self.sent_rank_idx[k], reverse=True)\n",
    "        \n",
    "        self.word_rank_idx = self.rank.get_ranks(self.words_graph)\n",
    "        self.sorted_word_rank_idx = sorted(self.word_rank_idx, key=lambda k: self.word_rank_idx[k], reverse=True)\n",
    "    \n",
    "    def summarize(self, sent_num=3):\n",
    "        summary = []\n",
    "        index=[]\n",
    "        for idx in self.sorted_sent_rank_idx[:sent_num]:\n",
    "            index.append(idx)\n",
    "            \n",
    "        index.sort()\n",
    "        for idx in index:\n",
    "            summary.append(self.sentences[idx])\n",
    "                    \n",
    "        return summary\n",
    "\n",
    "    def keywords(self, word_num=10):\n",
    "        rank = Rank()\n",
    "        rank_idx = rank.get_ranks(self.words_graph)\n",
    "        sorted_rank_idx = sorted(rank_idx, key=lambda k: rank_idx[k], reverse=True)\n",
    "        \n",
    "        keywords = []\n",
    "        index=[]\n",
    "        for idx in sorted_rank_idx[:word_num]:\n",
    "            index.append(idx)\n",
    "            \n",
    "        #index.sort()\n",
    "        for idx in index:\n",
    "            keywords.append(self.idx2word[idx])\n",
    "            \n",
    "        return keywords"
   ]
  },
  {
   "cell_type": "code",
   "execution_count": 10,
   "metadata": {},
   "outputs": [
    {
     "name": "stdout",
     "output_type": "stream",
     "text": [
      "◇ 연 봉 5000만원 대가 84% 로 카드 공제 가장 많이 받아 신용카드 소득 공제를 받으려면 총소득의 4분의 1 이상을 카드로 써야 한다.\n",
      "\n",
      "2015년 기준으로 근로 소득세를 내는 사람 중에서 카드 소득 공제를 받는 비율이 가장 많은 소득 구간은 연봉 5000만 ~6000 만원이었다.\n",
      "\n",
      "연봉 4000만원 대는 81%, 3000만원 대는 73%, 2000만원 대는 55% 만 카드 소득 공제를 받은 것으로 나타났다.\n",
      "\n",
      "keywords : ['소득', '공제', '카드', '사람', '사용', '한도', '경우', '신용카드', '문턱', '설명']\n"
     ]
    }
   ],
   "source": [
    "url = 'http://v.media.daum.net/v/20170611192209012?rcmd=r'\n",
    "textrank = TextRank(url)\n",
    "for row in textrank.summarize(3):\n",
    "    print(row)\n",
    "    print()\n",
    "print('keywords :',textrank.keywords())"
   ]
  },
  {
   "cell_type": "code",
   "execution_count": 11,
   "metadata": {},
   "outputs": [
    {
     "name": "stdout",
     "output_type": "stream",
     "text": [
      "이 낙 연, 윤리 감찰단 비상징계 요청에 긴급 최고 위 소집해 결단 김 홍 걸, 당적 상실해 무소속으로… 野, 의원직 사퇴요구하며 제명 결정 비판 질의하는 김 홍 걸 의원 [ 연합 뉴스 자료사진] ( 서울= 연합 뉴스) 김 동호 이동 환 홍규 빈 기자 = 더 불어 민주당은 18일 재산 신고 누락 의혹이 제기된 김대중 전 대통령의 삼남 김 홍 걸 의원을 제명했다.\n",
      "\n",
      "감찰 단 최 기상 단장은 김 의원에 대한 공직 선거법 위반 및 재산 허위 신고 의혹 등에 대한 조사를 개시했으나 김 의원이 이에 대해 성실히 협조하지 않음에 따라 이 낙 연 대표에게 김 의원에 대한 제명을 요청했다.\n",
      "\n",
      "최 의원은 브리핑 후 기자들과 만 나 ' 당에서 탈당을 요청한 적이 없느냐\n",
      "\n",
      "keywords : ['의원', '제명', '감찰', '최고', '비상', '대변인', '뉴스', '연합', '신고', '징계']\n"
     ]
    }
   ],
   "source": [
    "textrank = TextRank(news_df['contents'][0])\n",
    "for row in textrank.summarize(3):\n",
    "    print(row)\n",
    "    print()\n",
    "print('keywords :',textrank.keywords())"
   ]
  }
 ],
 "metadata": {
  "kernelspec": {
   "display_name": "python_3",
   "language": "python",
   "name": "python_3"
  },
  "language_info": {
   "codemirror_mode": {
    "name": "ipython",
    "version": 3
   },
   "file_extension": ".py",
   "mimetype": "text/x-python",
   "name": "python",
   "nbconvert_exporter": "python",
   "pygments_lexer": "ipython3",
   "version": "3.8.5"
  }
 },
 "nbformat": 4,
 "nbformat_minor": 4
}
