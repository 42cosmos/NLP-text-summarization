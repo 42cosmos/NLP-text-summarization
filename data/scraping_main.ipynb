{
 "cells": [
  {
   "cell_type": "code",
   "execution_count": 4,
   "metadata": {},
   "outputs": [],
   "source": [
    "import pandas as pd\n",
    "import numpy as np\n",
    "import os\n",
    "import time\n",
    "\n",
    "import selenium\n",
    "from selenium import webdriver\n",
    "web = '/Users/eunbinpark/workspace/chromedriver'"
   ]
  },
  {
   "cell_type": "code",
   "execution_count": 68,
   "metadata": {},
   "outputs": [],
   "source": [
    "# url = 'https://news.naver.com/main/ranking/read.nhn?rankingType=popular_day&oid=023&aid=0003562590&date=20200917&type=1&rankingSectionId=100&rankingSeq=1'\n",
    "_url = 'https://news.naver.com/main/read.nhn?mode=LSD&mid=shm&sid1=100&oid=047&aid=0002285093'"
   ]
  },
  {
   "cell_type": "code",
   "execution_count": 65,
   "metadata": {},
   "outputs": [],
   "source": [
    "def scraping_news(url):\n",
    "    driver = webdriver.Chrome(web)\n",
    "    driver.get(url)\n",
    "    title = driver.find_element_by_xpath('//*[@id=\"articleTitle\"]').text\n",
    "    date = driver.find_element_by_xpath('//*[@id=\"main_content\"]/div[1]/div[3]/div/span[1]').text\n",
    "    contents = driver.find_element_by_xpath('//*[@id=\"articleBodyContents\"]').text\n",
    "    \n",
    "    driver.find_element_by_xpath('//*[@id=\"main_content\"]/div[1]/div[3]/div/div[3]/div[2]/div[1]').click()\n",
    "    time.sleep(2)\n",
    "    \n",
    "    sum_bot = driver.find_element_by_xpath('//*[@id=\"main_content\"]/div[1]/div[3]/div/div[3]/div[2]/div[1]/div/div[2]/div[1]').text\n",
    "    \n",
    "    driver.close()\n",
    "    \n",
    "    df = pd.DataFrame([title, date, contents, sum_bot]).T\n",
    "    df.columns = ['title', 'date', 'contents', 'summarisation']\n",
    "    \n",
    "    return df\n",
    "    \n",
    "#     return title, date, contents, sum_bot"
   ]
  },
  {
   "cell_type": "code",
   "execution_count": 71,
   "metadata": {},
   "outputs": [],
   "source": [
    "df = scraping_news(_url)"
   ]
  }
 ],
 "metadata": {
  "kernelspec": {
   "display_name": "Python 3",
   "language": "python",
   "name": "python3"
  },
  "language_info": {
   "codemirror_mode": {
    "name": "ipython",
    "version": 3
   },
   "file_extension": ".py",
   "mimetype": "text/x-python",
   "name": "python",
   "nbconvert_exporter": "python",
   "pygments_lexer": "ipython3",
   "version": "3.8.5"
  }
 },
 "nbformat": 4,
 "nbformat_minor": 4
}
