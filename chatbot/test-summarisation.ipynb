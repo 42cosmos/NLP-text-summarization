{
 "cells": [
  {
   "cell_type": "code",
   "execution_count": 5,
   "metadata": {},
   "outputs": [],
   "source": [
    "import os\n",
    "import pandas as pd"
   ]
  },
  {
   "cell_type": "code",
   "execution_count": 4,
   "metadata": {},
   "outputs": [],
   "source": [
    "PATH = os.path.join('..', 'data', 'news_data.csv')"
   ]
  },
  {
   "cell_type": "code",
   "execution_count": 6,
   "metadata": {},
   "outputs": [
    {
     "data": {
      "text/plain": [
       "(180000, 6)"
      ]
     },
     "execution_count": 6,
     "metadata": {},
     "output_type": "execute_result"
    }
   ],
   "source": [
    "df = pd.read_csv(PATH)\n",
    "df.shape"
   ]
  },
  {
   "cell_type": "code",
   "execution_count": 8,
   "metadata": {},
   "outputs": [],
   "source": [
    "from typing import List\n",
    "from konlpy.tag import Okt\n",
    "from textrankr import TextRank\n",
    "\n",
    "\n",
    "class MyTokenizer:\n",
    "    def __call__(self, text: str) -> List[str]:\n",
    "        tokens: List[str] = text.split()\n",
    "        return tokens\n",
    "\n",
    "    \n",
    "class OktTokenizer:\n",
    "    okt: Okt = Okt()\n",
    "\n",
    "    def __call__(self, text: str) -> List[str]:\n",
    "        tokens: List[str] = self.okt.phrases(text)\n",
    "        return tokens\n",
    "    \n",
    "    "
   ]
  },
  {
   "cell_type": "code",
   "execution_count": 14,
   "metadata": {},
   "outputs": [
    {
     "data": {
      "text/plain": [
       "'관람객 이목 집중할 듯…\"갤럭시 에코시스템으로 전시장 채울 것\"\\n\\n(지디넷코리아=박영민 기자)<바르셀로나(스페인)=박영민 기자> 삼성전자가 장고 끝에 올해 MWC에서 폴더블 스마트폰 \\'갤럭시 폴드\\'를 전시하기로 결정했다.\\n\\n불과 5일 전에 열린 신제품 공개행사에서 기술 유출을 우려해 제품 전시는 물론 세부 사양 공개 조차 꺼렸던 삼성전자가 MWC에서 갤럭시 폴드를 전시하기로 한 건 이례적인 행보다.\\n\\n삼성전자는 25일(현지시간) 스페인 바르셀로나에서 개막하는 세계 최대 모바일 전시회 \\'MWC19\\'에서 갤럭시 폴드를 포함한 다양한 갤럭시 스마트폰을 전시할 예정이다.\\n\\n삼성전자 관계자는 \"올해 MWC 부스를 새로운 모바일 혁신의 시작을 알리는 다양한 갤럭시 에코시스템으로 채울 예정\"이라고 강조했다.\\n\\n삼성전자는 20일(현지시간) 미국 샌프란시스코에서 열린 \\'갤럭시 언팩 2019\\' 행사에서 폴더블폰 \\'갤럭시 폴드\\'를 공개했다.(사진=삼성전자)\\n\\n\\n삼성전자가 이번 MWC에서 전시할 제품은 ▲갤럭시 폴드 ▲갤럭시S10 시리즈 ▲갤럭시A50·A30 ▲갤럭시 워치 액티브·갤럭시 버즈 등 웨어러블 신제품 ▲갤럭시 탭 S5e 등이다. 이 중 갤럭시 폴드와 갤럭시A50·A30은 MWC에서 처음으로 전시되는 것이다.\\n\\n이번 전시에서 관람객들의 이목을 가장 집중할 것으로 예상되는 제품은 단연 삼성전자의 첫번째 폴더블 스마트폰인 갤럭시 폴드다.\\n\\n갤럭시 폴드는 삼성전자가 지난 20일(현지시간) 미국 캘리포니아에서 개최된 갤럭시 신제품 공개행사(언팩)에서 선보인 폴더블 스마트폰으로, 7.3인치 \\'인피니티 플렉스 디스플레이\\'를 탑재한 게 특징이다.\\n\\n이 제품은 펼쳤을 때 7.3인치 대화면, 안쪽으로 접었을 때 4.6인치 커버 디스플레이로 활용할 수 있다. 스마트폰과 태블릿의 경험을 모두 제공하면서, 화면을 2개 혹은 3개로 분할해 사용할 수 있어 강력한 멀티태스킹도 지원한다.\\n\\n삼성 폴더블폰 \\'갤럭시 폴드\\'는 화면을 닫으면 자연스럽게 힌지가 나타나도록 설계됐다. (사진=지디넷코리아)\\n\\n\\n삼성전자는 이날 언팩에서 갤럭시 포드를 신제품 가운데 가장 먼저 소개하는 등, 전면으로 내세웠지만, 소비자들이 신제품을 직접 만져볼 기회는 주지 않았다.\\n\\n업계 한 관계자는 \"이는 업계가 온통 새로운 폼팩터인 폴더블 스마트폰에 집중하는 상황에서, 기술 유출 등의 우려가 작용했기 때문\"이라며 \"갤럭시 폴드를 언제쯤 소비자들이 직접 만져볼 지는 그동안 미지수였다\"고 말했다.\\n\\n이어 \"갤럭시 폴드를 MWC에서 전시하겠다는 것은 오는 4월 출시를 앞두고 시장의 반응을 미리 살펴보겠다는 의도와 함께, 화웨이 등 경쟁사의 제품이 MWC에서 속속 공개되는 와중에 갤럭시 폴드에 대한 자신감을 드러낸 것으로 해석된다\"고 강조했다.\\n\\n한편, 갤럭시 폴드는 오는 4월 26일 글로벌 시장에 순차적으로 출시될 예정이다. 가격은 1천980달러(약 220만원)로 책정됐다. 4G 롱텀에볼루션(LTE)과 5G 두 가지 버전으로 출시되며, 국내에는 5G 모델이 5월 중 출시된다.\\n\\n박영민 기자(pym@zdnet.co.kr)\\n\\n▶ 지디넷코리아 \\'홈페이지\\' / ▶ 지디넷코리아 ‘이슈진단+’\\n▶ 네이버 채널에서 ‘지디넷코리아’를 구독해주세요'"
      ]
     },
     "execution_count": 14,
     "metadata": {},
     "output_type": "execute_result"
    }
   ],
   "source": [
    "test = df['contents'].sample(1).iloc[0]\n",
    "test"
   ]
  },
  {
   "cell_type": "code",
   "execution_count": 15,
   "metadata": {},
   "outputs": [],
   "source": [
    "mytokenizer: MyTokenizer = MyTokenizer()\n",
    "textrank: TextRank = TextRank(mytokenizer)\n",
    "\n",
    "k: int = 3  # num sentences in the resulting summary\n",
    "    \n",
    "summarized: str = textrank.summarize(test, k)\n",
    "summaries: List[str] = textrank.summarize(test, k, verbose=False)    "
   ]
  },
  {
   "cell_type": "code",
   "execution_count": 16,
   "metadata": {},
   "outputs": [
    {
     "name": "stdout",
     "output_type": "stream",
     "text": [
      "불과 5일 전에 열린 신제품 공개행사에서 기술 유출을 우려해 제품 전시는 물론 세부 사양 공개 조차 꺼렸던 삼성전자가 MWC에서 갤럭시 폴드를 전시하기로 한 건 이례적인 행보다\n",
      "삼성전자는 25일(현지시간) 스페인 바르셀로나에서 개막하는 세계 최대 모바일 전시회 'MWC19'에서 갤럭시 폴드를 포함한 다양한 갤럭시 스마트폰을 전시할 예정이다\n",
      "갤럭시 폴드는 삼성전자가 지난 20일(현지시간) 미국 캘리포니아에서 개최된 갤럭시 신제품 공개행사(언팩)에서 선보인 폴더블 스마트폰으로, 7.3인치 '인피니티 플렉스 디스플레이'를 탑재한 게 특징이다\n",
      "==================================================\n",
      "불과 5일 전에 열린 신제품 공개행사에서 기술 유출을 우려해 제품 전시는 물론 세부 사양 공개 조차 꺼렸던 삼성전자가 MWC에서 갤럭시 폴드를 전시하기로 한 건 이례적인 행보다\n",
      "삼성전자는 25일(현지시간) 스페인 바르셀로나에서 개막하는 세계 최대 모바일 전시회 'MWC19'에서 갤럭시 폴드를 포함한 다양한 갤럭시 스마트폰을 전시할 예정이다\n",
      "갤럭시 폴드는 삼성전자가 지난 20일(현지시간) 미국 캘리포니아에서 개최된 갤럭시 신제품 공개행사(언팩)에서 선보인 폴더블 스마트폰으로, 7.3인치 '인피니티 플렉스 디스플레이'를 탑재한 게 특징이다\n"
     ]
    }
   ],
   "source": [
    "print(summarized)  # gives you some text\n",
    "print('=' * 50)\n",
    "\n",
    "\n",
    "for summary in summaries: # if verbose=False, it returns a list\n",
    "    print(summary)"
   ]
  },
  {
   "cell_type": "code",
   "execution_count": null,
   "metadata": {},
   "outputs": [],
   "source": []
  }
 ],
 "metadata": {
  "kernelspec": {
   "display_name": "Python 3",
   "language": "python",
   "name": "python3"
  },
  "language_info": {
   "codemirror_mode": {
    "name": "ipython",
    "version": 3
   },
   "file_extension": ".py",
   "mimetype": "text/x-python",
   "name": "python",
   "nbconvert_exporter": "python",
   "pygments_lexer": "ipython3",
   "version": "3.8.6"
  }
 },
 "nbformat": 4,
 "nbformat_minor": 4
}
